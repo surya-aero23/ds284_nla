{
 "cells": [
  {
   "cell_type": "markdown",
   "metadata": {},
   "source": [
    "# Page Rank Algorithm using Power Iteration"
   ]
  },
  {
   "cell_type": "code",
   "execution_count": null,
   "id": "c4905ed8-396c-4935-bdf7-cfdc14ed5666",
   "metadata": {},
   "outputs": [],
   "source": [
    "import numpy as np\n",
    "import matplotlib.pyplot as plt"
   ]
  },
  {
   "cell_type": "code",
   "execution_count": null,
   "id": "64d4a5c2-2f89-4bf6-bdf4-d5aea2cbc685",
   "metadata": {},
   "outputs": [],
   "source": [
    "def rayleigh_quo(A,x):\n",
    "    x = x/np.linalg.norm(x, ord=2)\n",
    "    return np.dot(x, np.dot(A,x))"
   ]
  },
  {
   "cell_type": "markdown",
   "id": "571db894-ccee-4695-a654-d5fad0c2a45d",
   "metadata": {},
   "source": [
    "### Markov Transition Matrix"
   ]
  },
  {
   "cell_type": "code",
   "execution_count": null,
   "id": "3306d8a4-7b9a-4a54-94d1-3d1923142649",
   "metadata": {},
   "outputs": [],
   "source": [
    "M = np.array([\n",
    "    [0  ,0  ,1  ,0  ,0  ,0  ,0  ,0  ,0  ,0  ],\n",
    "    [0.5,0  ,0  ,0  ,0  ,0  ,0  ,0  ,0.5,0  ],\n",
    "    [0  ,0.5,0  ,0  ,0  ,0  ,0.5,0  ,0  ,0  ],\n",
    "    [0  ,0  ,0  ,0  ,0  ,0  ,0  ,0  ,0  ,0  ],\n",
    "    [0  ,0  ,0  ,1  ,0  ,0  ,0  ,0  ,0  ,0  ],\n",
    "    [0  ,0  ,0  ,0  ,0.5,0  ,0  ,0.5,0  ,0  ],\n",
    "    [0  ,0  ,0  ,0  ,0  ,0.5,0  ,0  ,0  ,0  ],\n",
    "    [0  ,0.5,0  ,0  ,0.5,0  ,0  ,0  ,0  ,1  ],\n",
    "    [0.5,0  ,0  ,0  ,0  ,0  ,0.5,0.5,0  ,0  ],\n",
    "    [0  ,0  ,0  ,0  ,0  ,0.5,0  ,0  ,0.5,0  ]\n",
    "])"
   ]
  },
  {
   "cell_type": "markdown",
   "metadata": {},
   "source": [
    "### Power Iteration"
   ]
  },
  {
   "cell_type": "code",
   "execution_count": null,
   "id": "79fceac3-b90a-438f-99c0-be3799f88a5b",
   "metadata": {},
   "outputs": [],
   "source": [
    "max_iter = 50\n",
    "m, n = M.shape\n",
    "v = np.random.rand(n)\n",
    "v = v/np.linalg.norm(v)\n",
    "\n",
    "evp_residual = []\n",
    "resPOW_list = []\n",
    "rayleigh_quo_list = []\n",
    "\n",
    "for i in range(max_iter):\n",
    "    v_1 = np.dot(M,v)\n",
    "    v_1 = v_1/np.linalg.norm(v_1)\n",
    "\n",
    "    ray_quo_value = rayleigh_quo(M,v_1)\n",
    "    evp_res_norm = np.dot(M,v_1) - ray_quo_value*v_1\n",
    "    evp_residual.append(np.linalg.norm(evp_res_norm))\n",
    "\n",
    "    resPOW_list.append(np.linalg.norm(v_1-v))\n",
    "    rayleigh_quo_list.append(ray_quo_value)\n",
    "    \n",
    "    v = v_1\n"
   ]
  },
  {
   "cell_type": "markdown",
   "metadata": {},
   "source": [
    "### Plots"
   ]
  },
  {
   "cell_type": "code",
   "execution_count": null,
   "metadata": {},
   "outputs": [],
   "source": [
    "resEVP_np = np.array(evp_residual)\n",
    "resEV_np = np.array(resPOW_list)\n",
    "rayleigh_np = np.array(rayleigh_quo_list)\n",
    "\n",
    "iterations = np.arange(max_iter)\n",
    "\n",
    "print(f\"Highest page rank is for page {np.argmax(v)+1} with value {rayleigh_np[np.argmax(v)]}\")\n",
    "print(f\"Lowest page rank is for page {np.argmin(v)+1} with value {rayleigh_np[np.argmin(v)]}\")\n",
    "\n",
    "plt.plot(iterations, resEVP_np, 'o--', color='blue')\n",
    "plt.yscale('log')\n",
    "plt.xlabel('Iterations')\n",
    "plt.title('2-Norm of Residual of EVP (Log Scale)')\n",
    "plt.grid()\n",
    "plt.show()\n",
    "\n",
    "plt.plot(iterations, resEV_np, 'o--', color='blue')\n",
    "plt.yscale('log')\n",
    "plt.xlabel('Iterations')\n",
    "plt.title('2-Norm of Residual of Power Method (Log Scale)')\n",
    "plt.grid()\n",
    "plt.show()\n",
    "\n",
    "plt.plot(iterations, rayleigh_np, 'o--', color='blue')\n",
    "plt.xlabel('Iterations')\n",
    "plt.title('Rayleigh Quotient')\n",
    "plt.grid()\n",
    "plt.show()\n"
   ]
  }
 ],
 "metadata": {
  "kernelspec": {
   "display_name": "Python 3 (ipykernel)",
   "language": "python",
   "name": "python3"
  },
  "language_info": {
   "codemirror_mode": {
    "name": "ipython",
    "version": 3
   },
   "file_extension": ".py",
   "mimetype": "text/x-python",
   "name": "python",
   "nbconvert_exporter": "python",
   "pygments_lexer": "ipython3",
   "version": "3.10.6"
  }
 },
 "nbformat": 4,
 "nbformat_minor": 5
}
